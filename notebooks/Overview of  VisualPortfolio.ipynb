{
 "cells": [
  {
   "cell_type": "code",
   "execution_count": null,
   "metadata": {
    "collapsed": false,
    "scrolled": true
   },
   "outputs": [],
   "source": [
    "%matplotlib inline\n",
    "from VisualPortfolio import createPerformanceTearSheet\n",
    "from DataAPI import api"
   ]
  },
  {
   "cell_type": "markdown",
   "metadata": {},
   "source": [
    "1. DataAPI与VisualPortfolio结合使用\n",
    "=========================\n",
    "***\n",
    "\n",
    "> 我们可以使用DataAPI获取某只证券的价格数据，简详细的绘制它的表现："
   ]
  },
  {
   "cell_type": "code",
   "execution_count": null,
   "metadata": {
    "collapsed": true,
    "scrolled": true
   },
   "outputs": [],
   "source": [
    "sample_prices = api.GetEquityBarMin1('600000', '2012-10-01', '2015-11-09')"
   ]
  },
  {
   "cell_type": "code",
   "execution_count": null,
   "metadata": {
    "collapsed": false,
    "scrolled": true
   },
   "outputs": [],
   "source": [
    "sample_prices.tail()"
   ]
  },
  {
   "cell_type": "code",
   "execution_count": null,
   "metadata": {
    "collapsed": false,
    "scrolled": false
   },
   "outputs": [],
   "source": [
    "sample_prices[['closePrice']].plot(figsize=(14,8))"
   ]
  },
  {
   "cell_type": "markdown",
   "metadata": {},
   "source": [
    "1.1 收益表现\n",
    "---------------"
   ]
  },
  {
   "cell_type": "markdown",
   "metadata": {},
   "source": [
    "* ``prices``：需要进行分析的价格序列；\n",
    "* ``benchmark``：与之进行对比的指数；"
   ]
  },
  {
   "cell_type": "code",
   "execution_count": null,
   "metadata": {
    "collapsed": false,
    "scrolled": false
   },
   "outputs": [],
   "source": [
    "perf_metric, perf_df = createPerformanceTearSheet(prices=sample_prices['closePrice'], benchmark='000300.zicn')"
   ]
  },
  {
   "cell_type": "markdown",
   "metadata": {},
   "source": [
    "2. 证券头寸变化分析\n",
    "-----------------------\n",
    "***"
   ]
  },
  {
   "cell_type": "code",
   "execution_count": null,
   "metadata": {
    "collapsed": true
   },
   "outputs": [],
   "source": [
    "import pandas as pd\n",
    "from VisualPortfolio import createPostionTearSheet"
   ]
  },
  {
   "cell_type": "markdown",
   "metadata": {},
   "source": [
    "我们可以读入一个我们已有的position book（表中的数据都是改证券当日净值）："
   ]
  },
  {
   "cell_type": "code",
   "execution_count": null,
   "metadata": {
    "collapsed": false
   },
   "outputs": [],
   "source": [
    "positions = pd.read_csv('data/positions.csv', index_col=0, parse_dates=[0])"
   ]
  },
  {
   "cell_type": "code",
   "execution_count": null,
   "metadata": {
    "collapsed": false,
    "scrolled": false
   },
   "outputs": [],
   "source": [
    "positions[50:60]"
   ]
  },
  {
   "cell_type": "markdown",
   "metadata": {},
   "source": [
    "绘制头寸分析图："
   ]
  },
  {
   "cell_type": "code",
   "execution_count": null,
   "metadata": {
    "collapsed": false,
    "scrolled": false
   },
   "outputs": [],
   "source": [
    "positions = createPostionTearSheet(positions)"
   ]
  },
  {
   "cell_type": "markdown",
   "metadata": {},
   "source": [
    "当然这个内容还需要补充。"
   ]
  },
  {
   "cell_type": "markdown",
   "metadata": {},
   "source": [
    "3. 交易行为分析\n",
    "==================\n",
    "***"
   ]
  },
  {
   "cell_type": "code",
   "execution_count": null,
   "metadata": {
    "collapsed": false
   },
   "outputs": [],
   "source": [
    "from VisualPortfolio import createTranscationTearSheet\n",
    "transactions = pd.read_csv('data/transactions.csv', index_col=0, parse_dates=[0])"
   ]
  },
  {
   "cell_type": "code",
   "execution_count": null,
   "metadata": {
    "collapsed": false
   },
   "outputs": [],
   "source": [
    "transactions.head()"
   ]
  },
  {
   "cell_type": "code",
   "execution_count": null,
   "metadata": {
    "collapsed": false
   },
   "outputs": [],
   "source": [
    "turnover_rate = createTranscationTearSheet(positions=positions, transactions=transactions)"
   ]
  },
  {
   "cell_type": "code",
   "execution_count": null,
   "metadata": {
    "collapsed": false
   },
   "outputs": [],
   "source": [
    "turnover_rate.tail()"
   ]
  },
  {
   "cell_type": "markdown",
   "metadata": {},
   "source": [
    "4. 所有的都已经整合入``AlgoTrading``\n",
    "=======================\n",
    "***"
   ]
  },
  {
   "cell_type": "code",
   "execution_count": null,
   "metadata": {
    "collapsed": true
   },
   "outputs": [],
   "source": [
    "import datetime as dt\n",
    "\n",
    "from AlgoTrading.Strategy.Strategy import Strategy\n",
    "from AlgoTrading.Backtest import strategyRunner\n",
    "from AlgoTrading.Backtest import DataSource\n",
    "from AlgoTrading.Data import set_universe\n",
    "from PyFin.API import MA\n",
    "from PyFin.API import MAX\n",
    "from PyFin.API import MIN\n",
    "\n",
    "\n",
    "class MovingAverageCrossStrategy(Strategy):\n",
    "    def __init__(self):\n",
    "        filtering = (MAX(10, 'close') / MIN(10, 'close')) > 1.00\n",
    "        indicator = MA(10, 'close') - MA(120, 'close')\n",
    "        self.signal = indicator[filtering]\n",
    "\n",
    "    def handle_data(self):\n",
    "        for s in self.universe:\n",
    "            amount = self.avaliableForSale(s)\n",
    "            if self.signal[s] > 0. and self.secPos[s] == 0:\n",
    "                self.order(s, 1, quantity=100)\n",
    "            elif self.signal[s] < 0. and amount != 0:\n",
    "                self.order(s, -1, quantity=amount)\n",
    "\n",
    "\n",
    "def run_example():\n",
    "    universe = set_universe('000300.zicn')\n",
    "    initialCapital = 100000.0\n",
    "    startDate = dt.datetime(2006, 10, 1)\n",
    "    endDate = dt.datetime(2015, 10, 1)\n",
    "\n",
    "    strategyRunner(userStrategy=MovingAverageCrossStrategy,\n",
    "                   initialCapital=initialCapital,\n",
    "                   symbolList=universe,\n",
    "                   startDate=startDate,\n",
    "                   endDate=endDate,\n",
    "                   dataSource=DataSource.DataYes,\n",
    "                   benchmark='000300.zicn',\n",
    "                   logLevel='critical',\n",
    "                   saveFile=True,\n",
    "                   plot=True)"
   ]
  },
  {
   "cell_type": "code",
   "execution_count": null,
   "metadata": {
    "collapsed": false,
    "scrolled": false
   },
   "outputs": [],
   "source": [
    "startTime = dt.datetime.now()\n",
    "print(\"Start: %s\" % startTime)\n",
    "res = run_example()\n",
    "endTime = dt.datetime.now()\n",
    "print(\"End : %s\" % endTime)\n",
    "print(\"Elapsed: %s\" % (endTime - startTime))"
   ]
  },
  {
   "cell_type": "code",
   "execution_count": null,
   "metadata": {
    "collapsed": true
   },
   "outputs": [],
   "source": []
  }
 ],
 "metadata": {
  "kernelspec": {
   "display_name": "Python 2",
   "language": "python",
   "name": "python2"
  },
  "language_info": {
   "codemirror_mode": {
    "name": "ipython",
    "version": 2
   },
   "file_extension": ".py",
   "mimetype": "text/x-python",
   "name": "python",
   "nbconvert_exporter": "python",
   "pygments_lexer": "ipython2",
   "version": "2.7.10"
  }
 },
 "nbformat": 4,
 "nbformat_minor": 0
}
